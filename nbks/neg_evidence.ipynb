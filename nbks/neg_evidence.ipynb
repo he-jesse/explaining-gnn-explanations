{
 "cells": [
  {
   "cell_type": "code",
   "execution_count": 1,
   "metadata": {},
   "outputs": [],
   "source": [
    "import networkx as nx\n",
    "import random\n",
    "import itertools\n",
    "\n",
    "import torch\n",
    "import torch_geometric as pyg\n",
    "from torch_geometric.nn import GraphSAGE\n",
    "from torch_geometric.utils import from_networkx, to_networkx\n",
    "torch.manual_seed(0)\n",
    "random.seed(0)\n",
    "\n",
    "def create_dataset():\n",
    "        g = nx.Graph()\n",
    "        for i in range(2000):\n",
    "            g.add_node(i)\n",
    "\n",
    "        colors = [1] * 10 + [2] * 10 + [0] * 1980\n",
    "        # blue =1\n",
    "        # red =2\n",
    "        blue_nodes = [i for i in g.nodes() if colors[i] == 1]\n",
    "        red_nodes = [i for i in g.nodes() if colors[i] == 2]\n",
    "        white_nodes = [i for i in g.nodes() if colors[i] == 0]\n",
    "        # labels 3: both\n",
    "        # labels 2: red\n",
    "        # labels 1: blue\n",
    "        # labels 0: none\n",
    "        labels = colors[:20] + [1] * 990 + [2] * 990\n",
    "        P = 0.005  # probability of edge between two white nodes\n",
    "        for u, v in itertools.combinations(white_nodes, 2):\n",
    "            if random.random() < P:\n",
    "                g.add_edge(u, v)\n",
    "\n",
    "        blue_red_combs = list(itertools.permutations(list(range(1, 11)), 2))\n",
    "\n",
    "        nodes_to_test = []\n",
    "        for idx, node in enumerate(white_nodes):\n",
    "            idx = idx % len(blue_red_combs)\n",
    "            blue_count, red_count = blue_red_combs[idx]\n",
    "            if abs(red_count - blue_count) > 1 and min(red_count, blue_count) > 1:\n",
    "                nodes_to_test.append(node)\n",
    "            for u in random.sample(blue_nodes, blue_count):\n",
    "                g.add_edge(node, u)\n",
    "            for u in random.sample(red_nodes, red_count):\n",
    "                g.add_edge(node, u)\n",
    "            if blue_count > red_count:\n",
    "                labels[node] = 1\n",
    "            else:\n",
    "                labels[node] = 2\n",
    "        labels = [x - 1 for x in labels]\n",
    "        data = from_networkx(g)\n",
    "        data.x = torch.nn.functional.one_hot(torch.tensor(colors)).float()\n",
    "        data.y = torch.tensor(labels).float()\n",
    "        # data.num_classes = 2\n",
    "        data.nodes_to_test = nodes_to_test\n",
    "        return data"
   ]
  },
  {
   "cell_type": "code",
   "execution_count": 2,
   "metadata": {},
   "outputs": [],
   "source": [
    "directory = 'neg_evidence/'\n",
    "# device = torch.device('cuda' if torch.cuda.is_available() else 'cpu')\n",
    "device = torch.device('cuda:6')"
   ]
  },
  {
   "cell_type": "code",
   "execution_count": 3,
   "metadata": {},
   "outputs": [],
   "source": [
    "train_data = [create_dataset().to(device) for i in range(4)]\n",
    "test_data = create_dataset().to(device)"
   ]
  },
  {
   "cell_type": "code",
   "execution_count": 4,
   "metadata": {},
   "outputs": [
    {
     "data": {
      "text/plain": [
       "0.5"
      ]
     },
     "execution_count": 4,
     "metadata": {},
     "output_type": "execute_result"
    }
   ],
   "source": [
    "len(torch.where(test_data.y[test_data.nodes_to_test] == 1)[0]) / len(test_data.nodes_to_test)"
   ]
  },
  {
   "cell_type": "code",
   "execution_count": 5,
   "metadata": {},
   "outputs": [],
   "source": [
    "model = GraphSAGE(3, 3, 1, 1, **{'aggr' : 'sum', 'bias' : False, 'root_weight' : False}).to(device)\n",
    "optimizer = torch.optim.Adam(model.parameters(), lr=0.01)\n",
    "criterion = torch.nn.BCEWithLogitsLoss()"
   ]
  },
  {
   "cell_type": "code",
   "execution_count": 6,
   "metadata": {},
   "outputs": [
    {
     "name": "stderr",
     "output_type": "stream",
     "text": [
      "Loss: 0.0437, Test Acc: 1.0000: 100%|██████████| 1000/1000 [00:12<00:00, 82.13it/s]\n"
     ]
    },
    {
     "data": {
      "text/plain": [
       "GraphSAGE(3, 1, num_layers=1)"
      ]
     },
     "execution_count": 6,
     "metadata": {},
     "output_type": "execute_result"
    }
   ],
   "source": [
    "from tqdm import tqdm\n",
    "def train(data):\n",
    "    model.train()\n",
    "    optimizer.zero_grad()\n",
    "    out = model(data.x, data.edge_index).flatten()\n",
    "    loss = criterion(out[data.nodes_to_test], data.y[data.nodes_to_test])\n",
    "    reg_loss = loss\n",
    "    for param in model.parameters():\n",
    "        reg_loss += 0.01 * torch.norm(param, p = 1)\n",
    "    reg_loss.backward()\n",
    "    optimizer.step()\n",
    "    return float(loss)\n",
    "\n",
    "@torch.no_grad()\n",
    "def test(data):\n",
    "    model.eval()\n",
    "    pred = model(data.x, data.edge_index).flatten() > 0.0\n",
    "    test_correct = int((pred[data.nodes_to_test] == data.y[data.nodes_to_test]).sum())\n",
    "    test_acc = test_correct / len(data.nodes_to_test)\n",
    "    return test_acc\n",
    "\n",
    "pbar = tqdm(range(1, 1001))\n",
    "for epoch in pbar:\n",
    "    loss = 0\n",
    "    for data in train_data:\n",
    "        loss += train(data)\n",
    "    test_acc = test(test_data)\n",
    "    pbar.set_description(f'Loss: {loss/4:.4f}, Test Acc: {test_acc:.4f}')\n",
    "pbar.close()\n",
    "model.eval()"
   ]
  },
  {
   "cell_type": "code",
   "execution_count": 7,
   "metadata": {},
   "outputs": [
    {
     "name": "stdout",
     "output_type": "stream",
     "text": [
      "Parameter containing:\n",
      "tensor([[-1.7631e-04, -1.7218e+00,  1.7219e+00]], device='cuda:6',\n",
      "       requires_grad=True)\n"
     ]
    }
   ],
   "source": [
    "for param in model.parameters():\n",
    "    print(param)"
   ]
  },
  {
   "cell_type": "code",
   "execution_count": 8,
   "metadata": {},
   "outputs": [],
   "source": [
    "from torch_geometric.explain import Explainer, GNNExplainer, PGExplainer, CaptumExplainer, ThresholdConfig\n",
    "\n",
    "giexplainer = Explainer(\n",
    "    model=model,\n",
    "    algorithm=CaptumExplainer('InputXGradient').to(device),\n",
    "    explanation_type='model',\n",
    "    edge_mask_type='object',\n",
    "    model_config=dict(\n",
    "        mode='regression',\n",
    "        task_level='node',\n",
    "        return_type='raw',\n",
    "    )\n",
    ")"
   ]
  },
  {
   "cell_type": "code",
   "execution_count": 9,
   "metadata": {},
   "outputs": [
    {
     "name": "stderr",
     "output_type": "stream",
     "text": [
      "/home/jesse/miniconda3/envs/explainer_env/lib/python3.10/site-packages/captum/attr/_utils/gradient.py:36: UserWarning: The .grad attribute of a Tensor that is not a leaf Tensor is being accessed. Its .grad attribute won't be populated during autograd.backward(). If you indeed want the .grad field to be populated for a non-leaf Tensor, use .retain_grad() on the non-leaf Tensor. If you access the non-leaf Tensor by mistake, make sure you access the leaf Tensor instead. See github.com/pytorch/pytorch/pull/30531 for more informations. (Triggered internally at /opt/conda/conda-bld/pytorch_1702400366987/work/build/aten/src/ATen/core/TensorBody.h:489.)\n",
      "  if input.grad is not None:\n",
      "/home/jesse/miniconda3/envs/explainer_env/lib/python3.10/site-packages/captum/attr/_utils/gradient.py:65: UserWarning: The .grad attribute of a Tensor that is not a leaf Tensor is being accessed. Its .grad attribute won't be populated during autograd.backward(). If you indeed want the .grad field to be populated for a non-leaf Tensor, use .retain_grad() on the non-leaf Tensor. If you access the non-leaf Tensor by mistake, make sure you access the leaf Tensor instead. See github.com/pytorch/pytorch/pull/30531 for more informations. (Triggered internally at /opt/conda/conda-bld/pytorch_1702400366987/work/build/aten/src/ATen/core/TensorBody.h:489.)\n",
      "  if input.grad is not None:\n"
     ]
    }
   ],
   "source": [
    "gi_expls = []\n",
    "for index in test_data.nodes_to_test:\n",
    "    gi_expls.append(giexplainer(test_data.x, test_data.edge_index, index=index).cpu())"
   ]
  },
  {
   "cell_type": "code",
   "execution_count": 10,
   "metadata": {},
   "outputs": [],
   "source": [
    "gnnexplainer_class = Explainer(\n",
    "    model=model,\n",
    "    algorithm=GNNExplainer(edge_ent = 0.0, edge_size = 0.001, lr = 0.5).to(device),\n",
    "    explanation_type='model',\n",
    "    edge_mask_type='object',\n",
    "    model_config=dict(\n",
    "        mode='binary_classification',\n",
    "        task_level='node',\n",
    "        return_type='raw',\n",
    "    )\n",
    ")\n",
    "\n",
    "gnnexplainer_rev = Explainer(\n",
    "    model=model,\n",
    "    algorithm=GNNExplainer(edge_ent = 0.0, edge_size = 0.001, lr = 0.5).to(device),\n",
    "    explanation_type='phenomenon',\n",
    "    edge_mask_type='object',\n",
    "    model_config=dict(\n",
    "        mode='binary_classification',\n",
    "        task_level='node',\n",
    "        return_type='raw',\n",
    "    )\n",
    ")"
   ]
  },
  {
   "cell_type": "code",
   "execution_count": 11,
   "metadata": {},
   "outputs": [],
   "source": [
    "gnn_rev_expls = []\n",
    "gnn_class_expls = []\n",
    "with torch.no_grad():\n",
    "    target = (model(test_data.x, test_data.edge_index) > 0).float()\n",
    "for index in test_data.nodes_to_test:\n",
    "    gnn_class_expls.append(gnnexplainer_class(test_data.x, test_data.edge_index, index=index).cpu())\n",
    "    gnn_rev_expls.append(gnnexplainer_rev(test_data.x, test_data.edge_index, index=index, target = 1 - target).cpu())"
   ]
  },
  {
   "cell_type": "code",
   "execution_count": 12,
   "metadata": {},
   "outputs": [],
   "source": [
    "import matplotlib.pyplot as plt\n",
    "from matplotlib import colormaps\n",
    "idx = 0\n",
    "index = test_data.nodes_to_test[idx]\n",
    "hard_edge_mask = (test_data.edge_index[1] == index).cpu()\n",
    "edge_index = test_data.edge_index[:, hard_edge_mask]\n",
    "edge_list = []\n",
    "G = nx.DiGraph()\n",
    "for j in range(edge_index.shape[1]):\n",
    "    G.add_edge(int(edge_index[0,j]), int(edge_index[1,j]))\n",
    "    edge_list.append((int(edge_index[0,j]), int(edge_index[1,j])))\n",
    "\n",
    "gi_mask_dict = {edge_list[j] : float(gi_expls[idx].edge_mask[hard_edge_mask][j])\n",
    "                for j in range(G.number_of_edges())}\n",
    "gnn_mask_dict = {edge_list[j] : float(gnn_class_expls[idx].edge_mask[hard_edge_mask][j])\n",
    "                for j in range(G.number_of_edges())}\n",
    "gnn_rev_dict = {edge_list[j] : float(gnn_rev_expls[idx].edge_mask[hard_edge_mask][j])\n",
    "                for j in range(G.number_of_edges())}\n",
    "\n",
    "nx.set_edge_attributes(G, gi_mask_dict, 'GradientXInput')\n",
    "nx.set_edge_attributes(G, gnn_mask_dict, 'GNNExplainer')\n",
    "nx.set_edge_attributes(G, gnn_rev_dict, 'Reverse GNNExplainer')\n",
    "\n",
    "draw_graph = G.to_undirected()\n",
    "for node in G:\n",
    "    for ngbr in nx.neighbors(G, node):\n",
    "        if node in nx.neighbors(G, ngbr):\n",
    "            draw_graph.edges[node, ngbr]['GradientXInput'] = (\n",
    "                G.edges[node, ngbr]['GradientXInput'] + G.edges[ngbr, node]['GradientXInput']\n",
    "            )\n",
    "            draw_graph.edges[node, ngbr]['GNNExplainer'] = (\n",
    "                G.edges[node, ngbr]['GNNExplainer'] + G.edges[ngbr, node]['GNNExplainer']\n",
    "            )\n",
    "            draw_graph.edges[node, ngbr]['Reverse GNNExplainer'] = (\n",
    "                G.edges[node, ngbr]['Reverse GNNExplainer'] + G.edges[ngbr, node]['Reverse GNNExplainer']\n",
    "            )\n",
    "node_color = [\"blue\" if torch.all(test_data.x[u].cpu() == torch.tensor([0., 1., 0.]))\n",
    "              else 'red' if torch.all(test_data.x[u].cpu() == torch.tensor([0., 0., 1.]))\n",
    "              else 'gray' for u in draw_graph.nodes()]\n",
    "node_shape = ['s' if torch.all(test_data.x[u].cpu() == torch.tensor([0., 1., 0.]))\n",
    "              else '^' if torch.all(test_data.x[u].cpu() == torch.tensor([0., 0., 1.]))\n",
    "              else '*' if u == index\n",
    "              else 'o' for u in draw_graph.nodes()]"
   ]
  },
  {
   "cell_type": "code",
   "execution_count": 18,
   "metadata": {},
   "outputs": [
    {
     "data": {
      "image/png": "[encoded data removed]",
      "text/plain": [
       "<Figure size 900x300 with 6 Axes>"
      ]
     },
     "metadata": {},
     "output_type": "display_data"
    }
   ],
   "source": [
    "fig, ax = plt.subplots(1, 3, figsize=(9,3))\n",
    "pos = nx.shell_layout(G)\n",
    "pos[index] = (0,0)\n",
    "pos = nx.spring_layout(G, pos = pos, fixed = [index])\n",
    "for i in range(3):\n",
    "    for j in range(G.number_of_nodes()):\n",
    "        nodes = nx.draw_networkx_nodes(\n",
    "            draw_graph, pos, ax = ax[i], node_color = node_color[j], node_size=100,\n",
    "            node_shape = node_shape[j], nodelist = [list(G.nodes())[j]]\n",
    "            )\n",
    "    nodes = nx.draw_networkx_nodes(\n",
    "        draw_graph, pos, ax = ax[i], nodelist = [index], node_color = 'white',\n",
    "        node_shape = '*', linewidths = 2., edgecolors='black', node_size=500\n",
    "        )\n",
    "gi_edges = nx.draw_networkx_edges(\n",
    "    draw_graph, pos, ax = ax[0], width=2.0,\n",
    "    edge_color = [draw_graph[u][v]['GradientXInput'] for u, v in draw_graph.edges],\n",
    "    edge_cmap = colormaps['RdBu_r'],\n",
    "    )\n",
    "gnn_edges = nx.draw_networkx_edges(\n",
    "    draw_graph, pos, ax = ax[1], width=2.0,\n",
    "    edge_color = [draw_graph[u][v]['GNNExplainer'] for u, v in draw_graph.edges],\n",
    "    edge_cmap = colormaps['Reds'], edge_vmin = 0, edge_vmax = 1\n",
    "    )\n",
    "gnn_rev_edges = nx.draw_networkx_edges(\n",
    "    draw_graph, pos, ax = ax[2], width=2.0,\n",
    "    edge_color = [draw_graph[u][v]['Reverse GNNExplainer'] for u, v in draw_graph.edges],\n",
    "    edge_cmap = colormaps['Blues'], edge_vmin = 0, edge_vmax = 1\n",
    "    )\n",
    "fig.colorbar(gi_edges, ax=ax[0])\n",
    "fig.colorbar(gnn_edges, ax=ax[1])\n",
    "fig.colorbar(gnn_rev_edges, ax=ax[2])\n",
    "ax[0].set_axis_off()\n",
    "ax[1].set_axis_off()\n",
    "ax[2].set_axis_off()\n",
    "ax[0].title.set_text('Edge Gradients')\n",
    "ax[1].title.set_text('GNNExplainer')\n",
    "ax[2].title.set_text('Reverse GNNExplainer')\n",
    "plt.tight_layout()\n",
    "plt.savefig('../images/neg_evidence.svg')"
   ]
  },
  {
   "cell_type": "code",
   "execution_count": 14,
   "metadata": {},
   "outputs": [],
   "source": [
    "out = model(test_data.x, test_data.edge_index)[test_data.nodes_to_test].cpu()"
   ]
  },
  {
   "cell_type": "code",
   "execution_count": 15,
   "metadata": {},
   "outputs": [
    {
     "name": "stdout",
     "output_type": "stream",
     "text": [
      "tensor(0.9979) tensor(0.0029)\n"
     ]
    }
   ],
   "source": [
    "eps = 0.001\n",
    "gi_masks = torch.stack(\n",
    "    [(gi_expl.edge_mask.cpu() * torch.sign(pred)) > eps for gi_expl, pred in zip(gi_expls, out)]\n",
    ")\n",
    "gnn_masks = torch.stack(\n",
    "    [gnn_expl.edge_mask.cpu() for gnn_expl in gnn_class_expls]\n",
    ")\n",
    "print(torch.nn.functional.cosine_similarity(gi_masks, gnn_masks, 1).mean(), torch.nn.functional.cosine_similarity(gi_masks, gnn_masks, 1).std())"
   ]
  },
  {
   "cell_type": "code",
   "execution_count": 16,
   "metadata": {},
   "outputs": [
    {
     "name": "stdout",
     "output_type": "stream",
     "text": [
      "tensor(0.9741, grad_fn=<MeanBackward0>) tensor(0.0315, grad_fn=<StdBackward0>)\n"
     ]
    }
   ],
   "source": [
    "gi_masks = torch.stack(\n",
    "    [gi_expl.edge_mask.cpu() * torch.sign(pred) for gi_expl, pred in zip(gi_expls, out)]\n",
    ")\n",
    "gnn_masks = torch.stack(\n",
    "    [gnn_expl.edge_mask.cpu() - gnn_rev_expl.edge_mask.cpu() for gnn_expl, gnn_rev_expl in zip(gnn_class_expls, gnn_rev_expls)]\n",
    ")\n",
    "print(torch.nn.functional.cosine_similarity(gi_masks, gnn_masks, 1).mean(), torch.nn.functional.cosine_similarity(gi_masks, gnn_masks, 1).std())"
   ]
  }
 ],
 "metadata": {
  "kernelspec": {
   "display_name": "explainer_env",
   "language": "python",
   "name": "python3"
  },
  "language_info": {
   "codemirror_mode": {
    "name": "ipython",
    "version": 3
   },
   "file_extension": ".py",
   "mimetype": "text/x-python",
   "name": "python",
   "nbconvert_exporter": "python",
   "pygments_lexer": "ipython3",
   "version": "3.10.13"
  }
 },
 "nbformat": 4,
 "nbformat_minor": 2
}
