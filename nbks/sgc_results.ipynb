{
 "cells": [
  {
   "cell_type": "code",
   "execution_count": 1,
   "id": "ae936bb5",
   "metadata": {},
   "outputs": [
    {
     "data": {
      "text/plain": [
       "<torch._C.Generator at 0x7f2a84ba8690>"
      ]
     },
     "execution_count": 1,
     "metadata": {},
     "output_type": "execute_result"
    }
   ],
   "source": [
    "import numpy as np\n",
    "import torch\n",
    "from torch.nn.functional import cosine_similarity\n",
    "import matplotlib.pyplot as plt\n",
    "from tqdm import tqdm\n",
    "\n",
    "node_directory = f'../../../data/jesse/additional_exp/'\n",
    "dataset = 'Cora'\n",
    "gnn_type = 'SGC'\n",
    "min_layers = 1\n",
    "max_layers = 5\n",
    "torch.manual_seed(0)"
   ]
  },
  {
   "cell_type": "code",
   "execution_count": 2,
   "id": "46cba6d1",
   "metadata": {},
   "outputs": [
    {
     "name": "stdout",
     "output_type": "stream",
     "text": [
      "[[0.965144   0.8906654  0.8906654  0.01520702]\n",
      " [0.892093   0.5467398  0.5467399  0.04867632]\n",
      " [0.851444   0.34041625 0.34545377 0.10266495]\n",
      " [0.81744975 0.22560844 0.23079652 0.18101051]\n",
      " [0.77889395 0.15996967 0.16458367 0.28231594]]\n"
     ]
    }
   ],
   "source": [
    "# Input-level similarities to 1{Grad > 0}\n",
    "means = []\n",
    "for layer in range(min_layers, max_layers + 1):\n",
    "    gi_expls = torch.vstack(torch.load(node_directory + dataset + f'/{gnn_type}_{layer}_layers_gi_preds.pt',\n",
    "                                    map_location = 'cpu'))\n",
    "    occ_expls = torch.load(node_directory + dataset + f'/{gnn_type}_{layer}_layers_occ_preds.pt',\n",
    "                                    map_location = 'cpu')\n",
    "    gnn_expls = torch.vstack(torch.load(node_directory + dataset + f'/{gnn_type}_{layer}_layers_gnnexplainer_preds.pt', \n",
    "                                    map_location = 'cpu'))\n",
    "    rand_expls = torch.vstack(torch.load(node_directory + dataset + f'/{gnn_type}_{layer}_layers_rand_preds.pt',\n",
    "                                        map_location = 'cpu'))\n",
    "    # full_expls = torch.load(node_directory + dataset + f'/{gnn_type}_{layer}_layers_full_preds.pt',\n",
    "    #                                     map_location = 'cpu')\n",
    "    inds_to_compare = torch.any(gi_expls > 0, axis = 1)\n",
    "    gi_pos = (gi_expls > 0)[inds_to_compare]\n",
    "    means.append([\n",
    "        cosine_similarity(gnn_expls[inds_to_compare], gi_pos).mean(),\n",
    "        cosine_similarity(gi_expls[inds_to_compare], gi_pos).mean(),\n",
    "        cosine_similarity(occ_expls[inds_to_compare], gi_pos).mean(),\n",
    "        cosine_similarity(rand_expls[inds_to_compare], gi_pos).mean(),\n",
    "        # cosine_similarity(full_expls[inds_to_compare], gi_pos).mean(),\n",
    "    ])\n",
    "means = np.array(means)\n",
    "print(means)"
   ]
  },
  {
   "cell_type": "code",
   "execution_count": 3,
   "id": "53e04f11",
   "metadata": {},
   "outputs": [
    {
     "name": "stdout",
     "output_type": "stream",
     "text": [
      "[[0.7591908  1.         0.01197875 0.47585166]\n",
      " [0.5412214  1.         0.01759271 0.28255373]\n",
      " [0.39997467 1.         0.02078626 0.19767343]\n",
      " [0.44111547 1.         0.02337404 0.13589779]\n",
      " [0.45087516 1.         0.0261202  0.09893397]]\n"
     ]
    }
   ],
   "source": [
    "means = []\n",
    "for layer in range(min_layers, max_layers + 1):\n",
    "    l_gi_expls = torch.load(node_directory + dataset + f'/{gnn_type}_{layer}_layers_layerwise_grad_preds.pt', map_location = 'cpu')\n",
    "    l_occ_expls = torch.load(node_directory + dataset + f'/{gnn_type}_{layer}_layers_layerwise_occ_preds.pt', map_location = 'cpu')\n",
    "    l_gnn_expls = torch.load(node_directory + dataset + f'/{gnn_type}_{layer}_layers_gnnexplainer_layerwise_preds.pt', map_location = 'cpu')\n",
    "    l_full_expls = torch.load(node_directory + dataset + f'/{gnn_type}_{layer}_layers_full_preds.pt', map_location = 'cpu')\n",
    "    sims = []\n",
    "    for gi_expl, occ_expl, gnn_expl, full_expl in zip(l_gi_expls, l_occ_expls, l_gnn_expls, l_full_expls):\n",
    "        rand_expl = torch.rand_like(full_expl)\n",
    "        if torch.any(occ_expl != 0):\n",
    "            sims.append([\n",
    "                cosine_similarity(gnn_expl.flatten(), occ_expl.flatten(), 0),\n",
    "                cosine_similarity(gi_expl.flatten(), occ_expl.flatten(), 0),\n",
    "                cosine_similarity(rand_expl.flatten(), occ_expl.flatten(), 0),\n",
    "                cosine_similarity(full_expl.flatten(), occ_expl.flatten(), 0),\n",
    "            ])\n",
    "    sims = np.array(sims)\n",
    "    means.append(sims.mean(0))\n",
    "means = np.array(means)\n",
    "print(means)"
   ]
  },
  {
   "cell_type": "code",
   "execution_count": null,
   "id": "2ab60cee",
   "metadata": {},
   "outputs": [
    {
     "name": "stdout",
     "output_type": "stream",
     "text": [
      "[[0.0, 0.0, 0.0], [1.4870525774313137e-05, 1.2246315236552618e-05, 2.6242100830131676e-06], [0.0003175294550601393, 0.00018806841399054974, 0.00012946105562150478], [0.001366338925436139, 0.0008152547525241971, 0.000551084172911942], [0.005478476174175739, 0.0031385556794703007, 0.002339920960366726]]\n"
     ]
    }
   ],
   "source": [
    "means = []\n",
    "for num_layers in range(min_layers, max_layers + 1):\n",
    "    # gi_expls = torch.load(node_directory + dataset + f'/{gnn_type}_{num_layers}_layers_gi_preds.pt', map_location = 'cpu')\n",
    "    flips = torch.load(node_directory + dataset + f'/{gnn_type}_{num_layers}_grad_flips.pt', map_location = 'cpu')\n",
    "    pos_to_neg = torch.load(node_directory + dataset + f'/{gnn_type}_{num_layers}_pos_to_neg_flips.pt', map_location = 'cpu')\n",
    "    neg_to_pos = torch.load(node_directory + dataset + f'/{gnn_type}_{num_layers}_neg_to_pos_flips.pt', map_location = 'cpu')\n",
    "    mask = torch.where(gi_expls != 0.)[0]\n",
    "    means.append([float((flips.sum(1) / (gi_expls != 0.).sum(1))[mask].mean()),\n",
    "                float((pos_to_neg.sum(1) / (gi_expls != 0.).sum(1))[mask].mean()),\n",
    "                float((neg_to_pos.sum(1) / (gi_expls != 0.).sum(1))[mask].mean())\n",
    "                ])\n",
    "print(means)"
   ]
  }
 ],
 "metadata": {
  "kernelspec": {
   "display_name": "explainer_env",
   "language": "python",
   "name": "python3"
  },
  "language_info": {
   "codemirror_mode": {
    "name": "ipython",
    "version": 3
   },
   "file_extension": ".py",
   "mimetype": "text/x-python",
   "name": "python",
   "nbconvert_exporter": "python",
   "pygments_lexer": "ipython3",
   "version": "3.10.13"
  }
 },
 "nbformat": 4,
 "nbformat_minor": 5
}
